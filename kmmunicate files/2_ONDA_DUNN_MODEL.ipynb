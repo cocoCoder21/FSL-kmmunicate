{
 "cells": [
  {
   "cell_type": "code",
   "execution_count": 1,
   "metadata": {},
   "outputs": [],
   "source": [
    "# !pip install tensorflow tensorflow-gpu opencv-python mediapipe sklearn matplotlib"
   ]
  },
  {
   "cell_type": "code",
   "execution_count": 2,
   "metadata": {},
   "outputs": [],
   "source": [
    "from matplotlib import pyplot as plt\n",
    "import mediapipe as mp\n",
    "import numpy as np\n",
    "import time\n",
    "import cv2\n",
    "import os\n",
    "import seaborn as sns\n",
    "import pandas as pd"
   ]
  },
  {
   "cell_type": "markdown",
   "metadata": {},
   "source": [
    "### Mediapipe object and utils\n",
    "\n",
    "- In this part, we first the functions necessary for the data collection and detection. \n",
    "\n",
    "**mp.solutions.holistic** - MediaPipe Holistic utilizes the pose, face and hand landmark models in MediaPipe Pose, MediaPipe Face Mesh and MediaPipe Hands respectively to generate a total of 543 landmarks (33 pose landmarks, 468 face landmarks, and 21 hand landmarks per hand).\n",
    "\n",
    "**mp.solutions.drawing_utils** - utils used for drawing the keypoints on the image/frame.\n",
    "\n",
    "> FUNCTIONS:\n",
    "- **detect_mpLeypoints()** - this function will change the image from BGR to RGB as well as setting it to non-rewritable before detecting keypoints in the frame using mediapipe.\n",
    "- **custom_keypoints()** - it customizes the design of your keypoints in the frame.\n",
    "- **get_keypoints()** - it extracts the array values of each keypoint's x,y, and z attributes to a 1-dimensional array."
   ]
  },
  {
   "cell_type": "code",
   "execution_count": 3,
   "metadata": {},
   "outputs": [],
   "source": [
    "mp_holistic = mp.solutions.holistic \n",
    "mp_drawing = mp.solutions.drawing_utils "
   ]
  },
  {
   "cell_type": "code",
   "execution_count": 4,
   "metadata": {},
   "outputs": [],
   "source": [
    "def detect_mpKeypoints(image, model):\n",
    "\n",
    "    image = cv2.cvtColor(image, cv2.COLOR_BGR2RGB) \n",
    "    image.flags.writeable = False                  \n",
    "    results = model.process(image) # Make detection - hand landmarks\n",
    "   \n",
    "    image.flags.writeable = True                   \n",
    "    image = cv2.cvtColor(image, cv2.COLOR_RGB2BGR) \n",
    "    \n",
    "    return image, results\n",
    "    "
   ]
  },
  {
   "cell_type": "code",
   "execution_count": 5,
   "metadata": {},
   "outputs": [],
   "source": [
    "#CUSTOMIZED LANDMARK DRAWINGS\n",
    "#BGR channels are used here\n",
    "def custom_keypoints(image, results):\n",
    "\n",
    "    #left hand connections\n",
    "    mp_drawing.draw_landmarks(image, results.left_hand_landmarks, mp_holistic.HAND_CONNECTIONS, \n",
    "                             mp_drawing.DrawingSpec(color=(228,66,184), thickness=2, circle_radius=3), \n",
    "                             mp_drawing.DrawingSpec(color=(224,205,255), thickness=2, circle_radius=2)\n",
    "                             ) \n",
    "    #right hand connections  \n",
    "    mp_drawing.draw_landmarks(image, results.right_hand_landmarks, mp_holistic.HAND_CONNECTIONS, \n",
    "                              mp_drawing.DrawingSpec(color=(228,66,184), thickness=2, circle_radius=3), \n",
    "                             mp_drawing.DrawingSpec(color=(224,205,255), thickness=2, circle_radius=2)\n",
    "                             ) "
   ]
  },
  {
   "cell_type": "code",
   "execution_count": 6,
   "metadata": {},
   "outputs": [],
   "source": [
    "def get_keypoints(results):\n",
    "    lh = np.array([[res.x, res.y, res.z] for res in results.left_hand_landmarks.landmark]).flatten() if results.left_hand_landmarks else np.zeros(21*3)\n",
    "    rh = np.array([[res.x, res.y, res.z] for res in results.right_hand_landmarks.landmark]).flatten() if results.right_hand_landmarks else np.zeros(21*3)\n",
    "    return np.concatenate([lh, rh])"
   ]
  },
  {
   "cell_type": "code",
   "execution_count": null,
   "metadata": {},
   "outputs": [],
   "source": []
  },
  {
   "cell_type": "markdown",
   "metadata": {
    "tags": []
   },
   "source": [
    "### COLLECTING DATASETS\n",
    "- In collecting datasets, we set 30 folders for each class/category with 30 numpy values inside. Each class/category will have 900 numpy values. All in all, we will have 2,700 dataset values for A,B, and C categories."
   ]
  },
  {
   "cell_type": "code",
   "execution_count": 29,
   "metadata": {},
   "outputs": [],
   "source": [
    "# Path for exported data, numpy arrays\n",
    "DNN_PATH = os.path.join('FSL_ALPHABETS_KEYPOINTS') \n",
    "\n",
    "# Actions that we try to detect\n",
    "# J is dynamic thooo\n",
    "# ['a', 'b', 'c', 'd','e', 'f', 'g', 'h', 'i', 'k', 'l', 'm', 'n', 'o', 'p', 'q', 'r', 's', 't', 'u','v','w', 'x', 'y']\n",
    "action_labels = np.array(['o', 'p', 'q']) # \n",
    "no_sequence = 80\n",
    "sequence_length = 60"
   ]
  },
  {
   "cell_type": "code",
   "execution_count": 30,
   "metadata": {},
   "outputs": [],
   "source": [
    "DNN_PATH = os.path.join('FSL_ALPHABETS_KEYPOINTS') \n",
    "for action in action_labels: \n",
    "    for sequence in range(60, no_sequence):\n",
    "        try: \n",
    "            os.makedirs(os.path.join(DNN_PATH, action, str(sequence)))\n",
    "            os.makedirs(os.path.join(DNN_PATH, action, str(sequence)))\n",
    "        except:\n",
    "            pass"
   ]
  },
  {
   "cell_type": "code",
   "execution_count": 31,
   "metadata": {
    "tags": []
   },
   "outputs": [],
   "source": [
    "cap = cv2.VideoCapture(0 + cv2.CAP_DSHOW)\n",
    "\n",
    "with mp_holistic.Holistic(min_detection_confidence=0.5, min_tracking_confidence=0.5) as holistic:\n",
    "    \n",
    "    for action in action_labels:\n",
    "        for sequence in range(60, no_sequence):\n",
    "            for frame_num in range(sequence_length):\n",
    "\n",
    "                ret, frame = cap.read()\n",
    "                \n",
    "                if not ret:\n",
    "                    continue\n",
    "                \n",
    "                img_name = os.path.join(DNN_PATH, action, str(sequence), \"{}.png\".format(frame_num))\n",
    "                cv2.imwrite(img_name, frame)\n",
    "                \n",
    "                image, results = detect_mpKeypoints(frame, holistic)\n",
    "                custom_keypoints(image, results)\n",
    "                \n",
    "                if frame_num == 0: \n",
    "                    cv2.putText(image, 'STARTING COLLECTION', (120,200), cv2.FONT_HERSHEY_SIMPLEX, 1, (0,255,247), 4, cv2.LINE_AA)\n",
    "                    cv2.putText(image, 'Collecting frames for {} Video Number {}'.format(action, sequence), (15,12), cv2.FONT_HERSHEY_SIMPLEX, 0.5, (0, 0, 216), 1, cv2.LINE_AA)\n",
    "                    cv2.imshow('FSL DATASET COLLECTION', image)\n",
    "                    cv2.waitKey(500)\n",
    "                else: \n",
    "                    cv2.putText(image, 'Collecting frames for {} Video Number {}'.format(action, sequence), (15,12), cv2.FONT_HERSHEY_SIMPLEX, 0.5, (0, 0, 216), 1, cv2.LINE_AA)\n",
    "                    cv2.imshow('FSL DATASET COLLECTION', image)\n",
    "                \n",
    "                keypoints = get_keypoints(results)\n",
    "                npy_path = os.path.join(DNN_PATH, action, str(sequence), str(frame_num))\n",
    "                np.save(npy_path, keypoints)\n",
    "\n",
    "                if cv2.waitKey(10) & 0xFF == ord('q'):\n",
    "                    break\n",
    "                    \n",
    "    cap.release()\n",
    "    cv2.destroyAllWindows()"
   ]
  },
  {
   "cell_type": "code",
   "execution_count": 11,
   "metadata": {},
   "outputs": [
    {
     "data": {
      "text/plain": [
       "(False, None)"
      ]
     },
     "execution_count": 11,
     "metadata": {},
     "output_type": "execute_result"
    }
   ],
   "source": [
    "cap.read()"
   ]
  },
  {
   "cell_type": "code",
   "execution_count": 12,
   "metadata": {},
   "outputs": [],
   "source": [
    "cap.release()\n",
    "cv2.destroyAllWindows()"
   ]
  },
  {
   "cell_type": "markdown",
   "metadata": {},
   "source": [
    "### Training and Testing collected data"
   ]
  },
  {
   "cell_type": "code",
   "execution_count": 7,
   "metadata": {},
   "outputs": [],
   "source": [
    "from sklearn.model_selection import train_test_split\n",
    "from tensorflow.keras.utils import to_categorical"
   ]
  },
  {
   "cell_type": "code",
   "execution_count": 8,
   "metadata": {},
   "outputs": [],
   "source": [
    "label_map = {label:num for num, label in enumerate(action_labels)}"
   ]
  },
  {
   "cell_type": "code",
   "execution_count": 9,
   "metadata": {
    "tags": []
   },
   "outputs": [
    {
     "name": "stderr",
     "output_type": "stream",
     "text": [
      "C:\\Users\\Admin\\AppData\\Local\\Temp\\ipykernel_10960\\3166993497.py:8: DeprecationWarning: `np.float` is a deprecated alias for the builtin `float`. To silence this warning, use `float` by itself. Doing this will not modify any behavior and is safe. If you specifically wanted the numpy scalar type, use `np.float64` here.\n",
      "Deprecated in NumPy 1.20; for more details and guidance: https://numpy.org/devdocs/release/1.20.0-notes.html#deprecations\n",
      "  res = res.astype(np.float)\n"
     ]
    },
    {
     "name": "stdout",
     "output_type": "stream",
     "text": [
      "FSL_ALPHABETS_KEYPOINTS\\h\\0\\0.npy\n",
      "FSL_ALPHABETS_KEYPOINTS\\h\\31\\2.npy\n"
     ]
    }
   ],
   "source": [
    "frames = []\n",
    "frame_label = []\n",
    "for action in action_labels:\n",
    "    for sequence in range(no_sequence):\n",
    "        for frame_num in range(sequence_length):\n",
    "            frame_path = os.path.join(DNN_PATH, action, str(sequence), \"{}.npy\".format(frame_num))\n",
    "            res = np.load(frame_path)\n",
    "            res = res.astype(np.float)\n",
    "            \n",
    "            if set(res) == {0.0}:\n",
    "                print(f\"{frame_path}\")\n",
    "                # print('RES: ', res, '\\n LENGTH: ', len(res))\n",
    "                # os.remove(frame_path)\n",
    "            else:\n",
    "                pass\n",
    "                # print('NOT ZEROES')\n",
    "                \n",
    "            frames.append(res)\n",
    "            frame_label.append(label_map[action])"
   ]
  },
  {
   "cell_type": "code",
   "execution_count": 10,
   "metadata": {},
   "outputs": [
    {
     "data": {
      "text/plain": [
       "86400"
      ]
     },
     "execution_count": 10,
     "metadata": {},
     "output_type": "execute_result"
    }
   ],
   "source": [
    "len(frames)"
   ]
  },
  {
   "cell_type": "code",
   "execution_count": 11,
   "metadata": {},
   "outputs": [
    {
     "data": {
      "text/plain": [
       "126"
      ]
     },
     "execution_count": 11,
     "metadata": {},
     "output_type": "execute_result"
    }
   ],
   "source": [
    "len(frames[1])"
   ]
  },
  {
   "cell_type": "code",
   "execution_count": 12,
   "metadata": {},
   "outputs": [
    {
     "data": {
      "text/plain": [
       "86400"
      ]
     },
     "execution_count": 12,
     "metadata": {},
     "output_type": "execute_result"
    }
   ],
   "source": [
    "len(frame_label)"
   ]
  },
  {
   "cell_type": "code",
   "execution_count": 13,
   "metadata": {},
   "outputs": [
    {
     "data": {
      "text/plain": [
       "array([ 9.12144661e-01,  6.44526362e-01, -5.59796320e-07,  8.65454733e-01,\n",
       "        6.09740436e-01, -2.08053757e-02,  8.34837854e-01,  5.30399323e-01,\n",
       "       -2.45864410e-02,  8.24566782e-01,  4.64975744e-01, -2.66236905e-02,\n",
       "        8.18369985e-01,  4.11457717e-01, -2.46222448e-02,  8.55283737e-01,\n",
       "        4.60522562e-01, -2.76049390e-03,  8.66879880e-01,  4.68473852e-01,\n",
       "       -2.44642477e-02,  8.78510058e-01,  5.26228786e-01, -3.70899849e-02,\n",
       "        8.82470131e-01,  5.66887558e-01, -4.11869250e-02,  8.90642822e-01,\n",
       "        4.50598717e-01,  5.74091973e-04,  9.02116835e-01,  4.72224504e-01,\n",
       "       -2.16285381e-02,  9.04849470e-01,  5.36728263e-01, -2.82166451e-02,\n",
       "        9.02634144e-01,  5.76539814e-01, -2.65108664e-02,  9.24460590e-01,\n",
       "        4.56675082e-01, -5.44517068e-04,  9.33976948e-01,  4.75877643e-01,\n",
       "       -2.52241772e-02,  9.28360760e-01,  5.36470950e-01, -2.14124322e-02,\n",
       "        9.20973122e-01,  5.73143601e-01, -1.13032125e-02,  9.55353916e-01,\n",
       "        4.71559793e-01, -3.46011552e-03,  9.63163078e-01,  4.73210961e-01,\n",
       "       -2.00100243e-02,  9.54630136e-01,  5.18125415e-01, -1.44960321e-02,\n",
       "        9.43719387e-01,  5.45711815e-01, -4.50498937e-03,  0.00000000e+00,\n",
       "        0.00000000e+00,  0.00000000e+00,  0.00000000e+00,  0.00000000e+00,\n",
       "        0.00000000e+00,  0.00000000e+00,  0.00000000e+00,  0.00000000e+00,\n",
       "        0.00000000e+00,  0.00000000e+00,  0.00000000e+00,  0.00000000e+00,\n",
       "        0.00000000e+00,  0.00000000e+00,  0.00000000e+00,  0.00000000e+00,\n",
       "        0.00000000e+00,  0.00000000e+00,  0.00000000e+00,  0.00000000e+00,\n",
       "        0.00000000e+00,  0.00000000e+00,  0.00000000e+00,  0.00000000e+00,\n",
       "        0.00000000e+00,  0.00000000e+00,  0.00000000e+00,  0.00000000e+00,\n",
       "        0.00000000e+00,  0.00000000e+00,  0.00000000e+00,  0.00000000e+00,\n",
       "        0.00000000e+00,  0.00000000e+00,  0.00000000e+00,  0.00000000e+00,\n",
       "        0.00000000e+00,  0.00000000e+00,  0.00000000e+00,  0.00000000e+00,\n",
       "        0.00000000e+00,  0.00000000e+00,  0.00000000e+00,  0.00000000e+00,\n",
       "        0.00000000e+00,  0.00000000e+00,  0.00000000e+00,  0.00000000e+00,\n",
       "        0.00000000e+00,  0.00000000e+00,  0.00000000e+00,  0.00000000e+00,\n",
       "        0.00000000e+00,  0.00000000e+00,  0.00000000e+00,  0.00000000e+00,\n",
       "        0.00000000e+00,  0.00000000e+00,  0.00000000e+00,  0.00000000e+00,\n",
       "        0.00000000e+00,  0.00000000e+00])"
      ]
     },
     "execution_count": 13,
     "metadata": {},
     "output_type": "execute_result"
    }
   ],
   "source": [
    "frames[1]"
   ]
  },
  {
   "cell_type": "markdown",
   "metadata": {},
   "source": [
    "## Cleaning Data: Removing zero values"
   ]
  },
  {
   "cell_type": "code",
   "execution_count": 14,
   "metadata": {},
   "outputs": [
    {
     "name": "stdout",
     "output_type": "stream",
     "text": [
      "86400\n",
      "86400\n"
     ]
    }
   ],
   "source": [
    "print(len(frames))\n",
    "print(len(frame_label))"
   ]
  },
  {
   "cell_type": "code",
   "execution_count": 15,
   "metadata": {},
   "outputs": [],
   "source": [
    "X = np.array(frames)"
   ]
  },
  {
   "cell_type": "code",
   "execution_count": 16,
   "metadata": {},
   "outputs": [],
   "source": [
    "labels = np.array(frame_label)"
   ]
  },
  {
   "cell_type": "code",
   "execution_count": 17,
   "metadata": {},
   "outputs": [],
   "source": [
    "y = to_categorical(frame_label).astype(int) #converted to one-hot-encoding"
   ]
  },
  {
   "cell_type": "code",
   "execution_count": 18,
   "metadata": {},
   "outputs": [
    {
     "data": {
      "text/plain": [
       "(86400, 126)"
      ]
     },
     "execution_count": 18,
     "metadata": {},
     "output_type": "execute_result"
    }
   ],
   "source": [
    "X.shape "
   ]
  },
  {
   "cell_type": "code",
   "execution_count": 19,
   "metadata": {},
   "outputs": [
    {
     "data": {
      "text/plain": [
       "(86400, 24)"
      ]
     },
     "execution_count": 19,
     "metadata": {},
     "output_type": "execute_result"
    }
   ],
   "source": [
    "y.shape"
   ]
  },
  {
   "cell_type": "code",
   "execution_count": 20,
   "metadata": {},
   "outputs": [],
   "source": [
    "X_train, X_test, y_train, y_test = train_test_split(X, y, test_size=0.08)"
   ]
  },
  {
   "cell_type": "markdown",
   "metadata": {},
   "source": [
    "### Building DNN Model\n",
    "- For our model, we just chose a simple DNN which is the Dense layer, and 1 dropout layer to help the model avoid overfitting. Our activation for the input layer and hidden layer are ReLU and for the output layer is softmax, since we have categorical data."
   ]
  },
  {
   "cell_type": "code",
   "execution_count": 21,
   "metadata": {},
   "outputs": [],
   "source": [
    "import tensorflow as tf\n",
    "from tensorflow.keras.models import Sequential \n",
    "from tensorflow.keras.layers import LSTM, Dense, Dropout \n",
    "from tensorflow.keras.callbacks import TensorBoard "
   ]
  },
  {
   "cell_type": "code",
   "execution_count": 22,
   "metadata": {},
   "outputs": [],
   "source": [
    "# %load_ext tensorboard\n",
    "# %tensorboard --logdir=\"log_dir\" --port=9999\n",
    "\n",
    "log_dir = os.path.join('FSL_ALPHABET_LOGS9')\n",
    "tb_callback = TensorBoard(log_dir=log_dir, histogram_freq=1, write_graph=True, write_images=True, update_freq=\"epoch\")"
   ]
  },
  {
   "cell_type": "code",
   "execution_count": 23,
   "metadata": {},
   "outputs": [],
   "source": [
    "model = Sequential()\n",
    "model.add(Dense(64, activation='relu', input_dim=126))\n",
    "model.add(Dense(36, activation='relu', input_dim=126))\n",
    "# model.add(Dense(72, activation='relu', input_dim=126))\n",
    "model.add(Dense(128, activation='relu', input_dim=126))\n",
    "model.add(Dense(256, activation='relu', input_dim=126))\n",
    "model.add(Dropout(0.5))\n",
    "model.add(Dense(2, activation='relu', input_dim=126))\n",
    "model.add(Dense(21, activation='relu', input_dim=126))\n",
    "model.add(Dense(action_labels.shape[0], activation='softmax')) "
   ]
  },
  {
   "cell_type": "code",
   "execution_count": 24,
   "metadata": {},
   "outputs": [],
   "source": [
    "model.compile(optimizer='Adam', loss='categorical_crossentropy', metrics=['mse','categorical_accuracy', 'accuracy'])"
   ]
  },
  {
   "cell_type": "code",
   "execution_count": null,
   "metadata": {
    "tags": []
   },
   "outputs": [
    {
     "name": "stdout",
     "output_type": "stream",
     "text": [
      "Epoch 1/1900\n",
      "2484/2484 [==============================] - 13s 4ms/step - loss: 2.3597 - mse: 0.0361 - categorical_accuracy: 0.1864 - accuracy: 0.1864\n",
      "Epoch 2/1900\n",
      "2484/2484 [==============================] - 10s 4ms/step - loss: 1.0568 - mse: 0.0220 - categorical_accuracy: 0.6105 - accuracy: 0.6105\n",
      "Epoch 3/1900\n",
      "2484/2484 [==============================] - 10s 4ms/step - loss: 0.5522 - mse: 0.0124 - categorical_accuracy: 0.7798 - accuracy: 0.7798\n",
      "Epoch 4/1900\n",
      "2484/2484 [==============================] - 10s 4ms/step - loss: 0.3682 - mse: 0.0082 - categorical_accuracy: 0.8611 - accuracy: 0.8611\n",
      "Epoch 5/1900\n",
      "2484/2484 [==============================] - 10s 4ms/step - loss: 0.2719 - mse: 0.0058 - categorical_accuracy: 0.9021 - accuracy: 0.9021\n",
      "Epoch 6/1900\n",
      "2484/2484 [==============================] - 10s 4ms/step - loss: 0.1963 - mse: 0.0042 - categorical_accuracy: 0.9303 - accuracy: 0.9303\n",
      "Epoch 7/1900\n",
      "2484/2484 [==============================] - 10s 4ms/step - loss: 0.1747 - mse: 0.0037 - categorical_accuracy: 0.9406 - accuracy: 0.9406\n",
      "Epoch 8/1900\n",
      "2484/2484 [==============================] - 9s 4ms/step - loss: 0.1522 - mse: 0.0031 - categorical_accuracy: 0.9511 - accuracy: 0.9511\n",
      "Epoch 9/1900\n",
      "2484/2484 [==============================] - 10s 4ms/step - loss: 0.1492 - mse: 0.0029 - categorical_accuracy: 0.9540 - accuracy: 0.9540\n",
      "Epoch 10/1900\n",
      "2484/2484 [==============================] - 10s 4ms/step - loss: 0.1065 - mse: 0.0022 - categorical_accuracy: 0.9662 - accuracy: 0.9662\n",
      "Epoch 11/1900\n",
      "2484/2484 [==============================] - 10s 4ms/step - loss: 0.1128 - mse: 0.0022 - categorical_accuracy: 0.9664 - accuracy: 0.9664\n",
      "Epoch 12/1900\n",
      "2484/2484 [==============================] - 10s 4ms/step - loss: 0.0928 - mse: 0.0018 - categorical_accuracy: 0.9727 - accuracy: 0.9727\n",
      "Epoch 13/1900\n",
      "2484/2484 [==============================] - 9s 4ms/step - loss: 0.0932 - mse: 0.0017 - categorical_accuracy: 0.9739 - accuracy: 0.9739\n",
      "Epoch 14/1900\n",
      "2484/2484 [==============================] - 10s 4ms/step - loss: 0.1024 - mse: 0.0017 - categorical_accuracy: 0.9739 - accuracy: 0.9739\n",
      "Epoch 15/1900\n",
      "2484/2484 [==============================] - 10s 4ms/step - loss: 0.0889 - mse: 0.0015 - categorical_accuracy: 0.9770 - accuracy: 0.9770\n",
      "Epoch 16/1900\n",
      "2484/2484 [==============================] - 9s 4ms/step - loss: 0.0855 - mse: 0.0015 - categorical_accuracy: 0.9772 - accuracy: 0.9772\n",
      "Epoch 17/1900\n",
      "2484/2484 [==============================] - 10s 4ms/step - loss: 0.0656 - mse: 0.0012 - categorical_accuracy: 0.9823 - accuracy: 0.9823\n",
      "Epoch 18/1900\n",
      "2484/2484 [==============================] - 10s 4ms/step - loss: 0.0910 - mse: 0.0015 - categorical_accuracy: 0.9771 - accuracy: 0.9771\n",
      "Epoch 19/1900\n",
      "2484/2484 [==============================] - 10s 4ms/step - loss: 0.2068 - mse: 0.0034 - categorical_accuracy: 0.9478 - accuracy: 0.9478\n",
      "Epoch 20/1900\n",
      "2484/2484 [==============================] - 10s 4ms/step - loss: 0.0882 - mse: 0.0017 - categorical_accuracy: 0.9744 - accuracy: 0.9744\n",
      "Epoch 21/1900\n",
      "2484/2484 [==============================] - 10s 4ms/step - loss: 0.0821 - mse: 0.0015 - categorical_accuracy: 0.9774 - accuracy: 0.9774\n",
      "Epoch 22/1900\n",
      "2484/2484 [==============================] - 10s 4ms/step - loss: 0.0734 - mse: 0.0013 - categorical_accuracy: 0.9800 - accuracy: 0.9800\n",
      "Epoch 23/1900\n",
      "2484/2484 [==============================] - 9s 4ms/step - loss: 0.0740 - mse: 0.0013 - categorical_accuracy: 0.9805 - accuracy: 0.9805\n",
      "Epoch 24/1900\n",
      "2484/2484 [==============================] - 9s 4ms/step - loss: 0.0508 - mse: 9.5104e-04 - categorical_accuracy: 0.9857 - accuracy: 0.9857\n",
      "Epoch 25/1900\n",
      "2484/2484 [==============================] - 9s 4ms/step - loss: 0.0617 - mse: 0.0011 - categorical_accuracy: 0.9834 - accuracy: 0.9834\n",
      "Epoch 26/1900\n",
      "2484/2484 [==============================] - 9s 4ms/step - loss: 0.0774 - mse: 0.0013 - categorical_accuracy: 0.9813 - accuracy: 0.9813\n",
      "Epoch 27/1900\n",
      "2484/2484 [==============================] - 9s 4ms/step - loss: 0.0517 - mse: 9.0742e-04 - categorical_accuracy: 0.9866 - accuracy: 0.9866\n",
      "Epoch 28/1900\n",
      "2484/2484 [==============================] - 9s 4ms/step - loss: 0.0637 - mse: 9.7609e-04 - categorical_accuracy: 0.9858 - accuracy: 0.9858\n",
      "Epoch 29/1900\n",
      "2484/2484 [==============================] - 9s 4ms/step - loss: 0.0476 - mse: 8.0521e-04 - categorical_accuracy: 0.9882 - accuracy: 0.9882\n",
      "Epoch 30/1900\n",
      "2484/2484 [==============================] - 9s 4ms/step - loss: 0.0543 - mse: 8.5163e-04 - categorical_accuracy: 0.9875 - accuracy: 0.9875\n",
      "Epoch 31/1900\n",
      "2484/2484 [==============================] - 9s 4ms/step - loss: 0.0451 - mse: 7.9066e-04 - categorical_accuracy: 0.9887 - accuracy: 0.9887\n",
      "Epoch 32/1900\n",
      "2484/2484 [==============================] - 9s 4ms/step - loss: 0.0593 - mse: 8.6350e-04 - categorical_accuracy: 0.9873 - accuracy: 0.9873\n",
      "Epoch 33/1900\n",
      "2484/2484 [==============================] - 9s 4ms/step - loss: 0.0425 - mse: 6.8237e-04 - categorical_accuracy: 0.9901 - accuracy: 0.9901\n",
      "Epoch 34/1900\n",
      "2484/2484 [==============================] - 9s 4ms/step - loss: 0.0374 - mse: 6.1910e-04 - categorical_accuracy: 0.9908 - accuracy: 0.9908\n",
      "Epoch 35/1900\n",
      "2484/2484 [==============================] - 9s 4ms/step - loss: 0.0626 - mse: 9.6807e-04 - categorical_accuracy: 0.9860 - accuracy: 0.9860\n",
      "Epoch 36/1900\n",
      "2484/2484 [==============================] - 9s 4ms/step - loss: 0.0445 - mse: 6.7607e-04 - categorical_accuracy: 0.9900 - accuracy: 0.9900\n",
      "Epoch 37/1900\n",
      "2484/2484 [==============================] - 10s 4ms/step - loss: 0.0381 - mse: 6.1756e-04 - categorical_accuracy: 0.9909 - accuracy: 0.9909\n",
      "Epoch 38/1900\n",
      "2484/2484 [==============================] - 9s 4ms/step - loss: 0.0655 - mse: 8.4924e-04 - categorical_accuracy: 0.9877 - accuracy: 0.9877\n",
      "Epoch 39/1900\n",
      "2484/2484 [==============================] - 9s 4ms/step - loss: 0.0320 - mse: 5.0830e-04 - categorical_accuracy: 0.9928 - accuracy: 0.9928\n",
      "Epoch 40/1900\n",
      "2484/2484 [==============================] - 9s 4ms/step - loss: 0.0374 - mse: 5.8698e-04 - categorical_accuracy: 0.9915 - accuracy: 0.9915\n",
      "Epoch 41/1900\n",
      "2484/2484 [==============================] - 9s 4ms/step - loss: 0.0298 - mse: 4.6664e-04 - categorical_accuracy: 0.9933 - accuracy: 0.9933\n",
      "Epoch 42/1900\n",
      "2484/2484 [==============================] - 9s 4ms/step - loss: 0.0442 - mse: 7.2617e-04 - categorical_accuracy: 0.9893 - accuracy: 0.9893\n",
      "Epoch 43/1900\n",
      "2484/2484 [==============================] - 9s 4ms/step - loss: 0.0407 - mse: 5.8973e-04 - categorical_accuracy: 0.9914 - accuracy: 0.9914\n",
      "Epoch 44/1900\n",
      "2484/2484 [==============================] - 9s 4ms/step - loss: 0.0341 - mse: 5.1177e-04 - categorical_accuracy: 0.9926 - accuracy: 0.9926\n",
      "Epoch 45/1900\n",
      "2484/2484 [==============================] - 9s 4ms/step - loss: 0.0331 - mse: 4.9047e-04 - categorical_accuracy: 0.9929 - accuracy: 0.9929\n",
      "Epoch 46/1900\n",
      "2484/2484 [==============================] - 10s 4ms/step - loss: 0.0370 - mse: 6.1460e-04 - categorical_accuracy: 0.9910 - accuracy: 0.9910\n",
      "Epoch 47/1900\n",
      "2484/2484 [==============================] - 9s 4ms/step - loss: 0.0386 - mse: 6.1056e-04 - categorical_accuracy: 0.9912 - accuracy: 0.9912\n",
      "Epoch 48/1900\n",
      "2484/2484 [==============================] - 9s 4ms/step - loss: 0.0270 - mse: 4.2454e-04 - categorical_accuracy: 0.9938 - accuracy: 0.9938\n",
      "Epoch 49/1900\n",
      "2484/2484 [==============================] - 9s 4ms/step - loss: 0.0397 - mse: 6.1811e-04 - categorical_accuracy: 0.9910 - accuracy: 0.9910\n",
      "Epoch 50/1900\n",
      "2484/2484 [==============================] - 9s 4ms/step - loss: 0.0248 - mse: 4.2329e-04 - categorical_accuracy: 0.9938 - accuracy: 0.9938\n",
      "Epoch 51/1900\n",
      "2484/2484 [==============================] - 9s 4ms/step - loss: 0.0359 - mse: 5.5355e-04 - categorical_accuracy: 0.9920 - accuracy: 0.9920\n",
      "Epoch 52/1900\n",
      "2484/2484 [==============================] - 9s 4ms/step - loss: 0.0343 - mse: 5.4506e-04 - categorical_accuracy: 0.9921 - accuracy: 0.9921\n",
      "Epoch 53/1900\n",
      "2484/2484 [==============================] - 9s 4ms/step - loss: 0.0223 - mse: 3.1488e-04 - categorical_accuracy: 0.9955 - accuracy: 0.9955\n",
      "Epoch 54/1900\n",
      "2484/2484 [==============================] - 9s 4ms/step - loss: 0.0275 - mse: 4.6386e-04 - categorical_accuracy: 0.9929 - accuracy: 0.9929\n",
      "Epoch 55/1900\n",
      "2484/2484 [==============================] - 9s 4ms/step - loss: 0.0365 - mse: 5.6863e-04 - categorical_accuracy: 0.9917 - accuracy: 0.9917\n",
      "Epoch 56/1900\n",
      "2484/2484 [==============================] - 9s 4ms/step - loss: 0.0244 - mse: 3.9445e-04 - categorical_accuracy: 0.9944 - accuracy: 0.9944\n",
      "Epoch 57/1900\n",
      "2484/2484 [==============================] - 10s 4ms/step - loss: 0.0231 - mse: 3.5899e-04 - categorical_accuracy: 0.9950 - accuracy: 0.9950\n",
      "Epoch 58/1900\n",
      "2484/2484 [==============================] - 9s 4ms/step - loss: 0.0376 - mse: 4.9151e-04 - categorical_accuracy: 0.9929 - accuracy: 0.9929\n",
      "Epoch 59/1900\n",
      "2484/2484 [==============================] - 9s 4ms/step - loss: 0.0296 - mse: 4.4440e-04 - categorical_accuracy: 0.9937 - accuracy: 0.9937\n",
      "Epoch 60/1900\n",
      "2484/2484 [==============================] - 9s 4ms/step - loss: 0.1788 - mse: 0.0024 - categorical_accuracy: 0.9643 - accuracy: 0.9643\n",
      "Epoch 61/1900\n",
      "2484/2484 [==============================] - 9s 4ms/step - loss: 0.1195 - mse: 0.0020 - categorical_accuracy: 0.9731 - accuracy: 0.9731\n",
      "Epoch 62/1900\n",
      "2484/2484 [==============================] - 9s 4ms/step - loss: 0.0563 - mse: 9.0833e-04 - categorical_accuracy: 0.9870 - accuracy: 0.9870\n",
      "Epoch 63/1900\n",
      "2484/2484 [==============================] - 9s 4ms/step - loss: 0.0512 - mse: 7.9676e-04 - categorical_accuracy: 0.9888 - accuracy: 0.9888\n",
      "Epoch 64/1900\n",
      "2484/2484 [==============================] - 9s 4ms/step - loss: 0.0608 - mse: 8.3699e-04 - categorical_accuracy: 0.9882 - accuracy: 0.9882\n",
      "Epoch 65/1900\n",
      "2484/2484 [==============================] - 9s 4ms/step - loss: 0.0388 - mse: 5.6432e-04 - categorical_accuracy: 0.9919 - accuracy: 0.9919\n",
      "Epoch 66/1900\n",
      "2484/2484 [==============================] - 9s 4ms/step - loss: 0.0462 - mse: 6.9062e-04 - categorical_accuracy: 0.9902 - accuracy: 0.9902\n",
      "Epoch 67/1900\n",
      "2484/2484 [==============================] - 9s 4ms/step - loss: 0.0337 - mse: 4.9511e-04 - categorical_accuracy: 0.9929 - accuracy: 0.9929\n",
      "Epoch 68/1900\n",
      "2484/2484 [==============================] - 9s 4ms/step - loss: 0.0375 - mse: 5.5282e-04 - categorical_accuracy: 0.9919 - accuracy: 0.9919\n",
      "Epoch 69/1900\n",
      "2484/2484 [==============================] - 10s 4ms/step - loss: 0.0424 - mse: 6.0941e-04 - categorical_accuracy: 0.9913 - accuracy: 0.9913\n",
      "Epoch 70/1900\n",
      "2484/2484 [==============================] - 9s 4ms/step - loss: 0.0326 - mse: 4.4136e-04 - categorical_accuracy: 0.9937 - accuracy: 0.9937\n",
      "Epoch 71/1900\n",
      "2484/2484 [==============================] - 9s 4ms/step - loss: 0.0636 - mse: 7.6919e-04 - categorical_accuracy: 0.9889 - accuracy: 0.9889\n",
      "Epoch 72/1900\n",
      "2484/2484 [==============================] - 9s 4ms/step - loss: 0.0342 - mse: 4.7546e-04 - categorical_accuracy: 0.9932 - accuracy: 0.9932\n",
      "Epoch 73/1900\n",
      "2484/2484 [==============================] - 9s 4ms/step - loss: 0.0358 - mse: 5.2345e-04 - categorical_accuracy: 0.9925 - accuracy: 0.9925\n",
      "Epoch 74/1900\n",
      "2484/2484 [==============================] - 9s 4ms/step - loss: 0.0366 - mse: 4.6701e-04 - categorical_accuracy: 0.9934 - accuracy: 0.9934\n",
      "Epoch 75/1900\n",
      "2484/2484 [==============================] - 9s 4ms/step - loss: 0.0364 - mse: 5.2597e-04 - categorical_accuracy: 0.9923 - accuracy: 0.9923\n",
      "Epoch 76/1900\n",
      "2484/2484 [==============================] - 9s 4ms/step - loss: 0.0275 - mse: 3.9415e-04 - categorical_accuracy: 0.9942 - accuracy: 0.9942\n",
      "Epoch 77/1900\n",
      "2484/2484 [==============================] - 9s 4ms/step - loss: 0.0386 - mse: 5.1005e-04 - categorical_accuracy: 0.9928 - accuracy: 0.9928\n",
      "Epoch 78/1900\n",
      "2484/2484 [==============================] - 9s 4ms/step - loss: 0.0411 - mse: 5.9394e-04 - categorical_accuracy: 0.9913 - accuracy: 0.9913\n",
      "Epoch 79/1900\n",
      "2484/2484 [==============================] - 9s 4ms/step - loss: 0.0356 - mse: 5.1787e-04 - categorical_accuracy: 0.9924 - accuracy: 0.9924\n",
      "Epoch 80/1900\n",
      "2484/2484 [==============================] - 9s 4ms/step - loss: 0.0311 - mse: 3.9844e-04 - categorical_accuracy: 0.9944 - accuracy: 0.9944\n",
      "Epoch 81/1900\n",
      "2484/2484 [==============================] - 9s 4ms/step - loss: 0.0275 - mse: 4.1507e-04 - categorical_accuracy: 0.9939 - accuracy: 0.9939\n",
      "Epoch 82/1900\n",
      "2484/2484 [==============================] - 9s 4ms/step - loss: 0.0435 - mse: 5.6642e-04 - categorical_accuracy: 0.9919 - accuracy: 0.9919\n",
      "Epoch 83/1900\n",
      "2484/2484 [==============================] - 9s 4ms/step - loss: 0.0198 - mse: 3.0999e-04 - categorical_accuracy: 0.9954 - accuracy: 0.9954\n",
      "Epoch 84/1900\n",
      "2484/2484 [==============================] - 9s 4ms/step - loss: 0.0371 - mse: 4.2308e-04 - categorical_accuracy: 0.9941 - accuracy: 0.9941\n",
      "Epoch 85/1900\n",
      "2484/2484 [==============================] - 9s 4ms/step - loss: 0.0367 - mse: 5.1272e-04 - categorical_accuracy: 0.9925 - accuracy: 0.9925\n",
      "Epoch 86/1900\n",
      "2484/2484 [==============================] - 9s 4ms/step - loss: 0.0313 - mse: 3.8190e-04 - categorical_accuracy: 0.9946 - accuracy: 0.9946\n",
      "Epoch 87/1900\n",
      "2484/2484 [==============================] - 8s 3ms/step - loss: 0.0325 - mse: 4.5405e-04 - categorical_accuracy: 0.9935 - accuracy: 0.9935\n",
      "Epoch 88/1900\n",
      "2484/2484 [==============================] - 8s 3ms/step - loss: 0.0324 - mse: 4.3012e-04 - categorical_accuracy: 0.9937 - accuracy: 0.9937\n",
      "Epoch 89/1900\n",
      "2484/2484 [==============================] - 9s 4ms/step - loss: 0.0325 - mse: 3.9725e-04 - categorical_accuracy: 0.9942 - accuracy: 0.9942\n",
      "Epoch 90/1900\n",
      "2484/2484 [==============================] - 9s 4ms/step - loss: 0.0292 - mse: 4.3252e-04 - categorical_accuracy: 0.9940 - accuracy: 0.9940\n",
      "Epoch 91/1900\n",
      "2484/2484 [==============================] - 9s 4ms/step - loss: 0.0266 - mse: 3.9402e-04 - categorical_accuracy: 0.9942 - accuracy: 0.9942\n",
      "Epoch 92/1900\n",
      "2484/2484 [==============================] - 9s 4ms/step - loss: 0.0346 - mse: 4.6640e-04 - categorical_accuracy: 0.9931 - accuracy: 0.9931\n",
      "Epoch 93/1900\n",
      "2484/2484 [==============================] - 9s 4ms/step - loss: 0.0155 - mse: 2.4174e-04 - categorical_accuracy: 0.9965 - accuracy: 0.9965\n",
      "Epoch 94/1900\n",
      "2484/2484 [==============================] - 9s 4ms/step - loss: 0.0599 - mse: 7.3137e-04 - categorical_accuracy: 0.9896 - accuracy: 0.9896\n",
      "Epoch 95/1900\n",
      "2484/2484 [==============================] - 9s 4ms/step - loss: 0.0179 - mse: 2.8149e-04 - categorical_accuracy: 0.9959 - accuracy: 0.9959\n",
      "Epoch 96/1900\n",
      "2484/2484 [==============================] - 9s 4ms/step - loss: 0.0457 - mse: 6.0297e-04 - categorical_accuracy: 0.9912 - accuracy: 0.9912\n",
      "Epoch 97/1900\n",
      "2484/2484 [==============================] - 9s 4ms/step - loss: 0.0282 - mse: 4.0007e-04 - categorical_accuracy: 0.9941 - accuracy: 0.9941\n",
      "Epoch 98/1900\n",
      "2484/2484 [==============================] - 9s 4ms/step - loss: 0.0229 - mse: 3.2915e-04 - categorical_accuracy: 0.9953 - accuracy: 0.9953\n",
      "Epoch 99/1900\n",
      "2484/2484 [==============================] - 9s 4ms/step - loss: 0.0261 - mse: 3.5503e-04 - categorical_accuracy: 0.9947 - accuracy: 0.9947\n",
      "Epoch 100/1900\n",
      "2484/2484 [==============================] - 10s 4ms/step - loss: 0.0291 - mse: 3.5157e-04 - categorical_accuracy: 0.9950 - accuracy: 0.9950\n",
      "Epoch 101/1900\n",
      "2484/2484 [==============================] - 9s 4ms/step - loss: 0.0255 - mse: 3.4285e-04 - categorical_accuracy: 0.9951 - accuracy: 0.9951\n",
      "Epoch 102/1900\n",
      "2484/2484 [==============================] - 9s 4ms/step - loss: 0.0201 - mse: 2.8626e-04 - categorical_accuracy: 0.9959 - accuracy: 0.9959\n",
      "Epoch 103/1900\n",
      "2484/2484 [==============================] - 9s 4ms/step - loss: 0.0266 - mse: 3.8253e-04 - categorical_accuracy: 0.9944 - accuracy: 0.9944\n",
      "Epoch 104/1900\n",
      "2484/2484 [==============================] - 9s 4ms/step - loss: 0.0297 - mse: 3.9101e-04 - categorical_accuracy: 0.9942 - accuracy: 0.9942\n",
      "Epoch 105/1900\n",
      "2484/2484 [==============================] - 9s 4ms/step - loss: 0.0158 - mse: 2.3067e-04 - categorical_accuracy: 0.9967 - accuracy: 0.9967\n",
      "Epoch 106/1900\n",
      "2484/2484 [==============================] - 9s 4ms/step - loss: 0.0253 - mse: 3.3526e-04 - categorical_accuracy: 0.9951 - accuracy: 0.9951\n",
      "Epoch 107/1900\n",
      "2484/2484 [==============================] - 9s 4ms/step - loss: 0.0248 - mse: 2.9875e-04 - categorical_accuracy: 0.9957 - accuracy: 0.9957\n",
      "Epoch 108/1900\n",
      "2484/2484 [==============================] - 9s 4ms/step - loss: 0.0232 - mse: 3.1727e-04 - categorical_accuracy: 0.9955 - accuracy: 0.9955\n",
      "Epoch 109/1900\n",
      "2484/2484 [==============================] - 9s 4ms/step - loss: 0.0223 - mse: 3.2161e-04 - categorical_accuracy: 0.9953 - accuracy: 0.9953\n",
      "Epoch 110/1900\n",
      "2484/2484 [==============================] - 9s 4ms/step - loss: 0.0312 - mse: 4.4144e-04 - categorical_accuracy: 0.9937 - accuracy: 0.9937\n",
      "Epoch 111/1900\n",
      "2484/2484 [==============================] - 9s 4ms/step - loss: 0.0148 - mse: 2.1354e-04 - categorical_accuracy: 0.9968 - accuracy: 0.9968\n",
      "Epoch 112/1900\n",
      "2484/2484 [==============================] - 9s 4ms/step - loss: 0.0886 - mse: 0.0011 - categorical_accuracy: 0.9838 - accuracy: 0.9838\n",
      "Epoch 113/1900\n",
      "2484/2484 [==============================] - 9s 4ms/step - loss: 0.0425 - mse: 6.3612e-04 - categorical_accuracy: 0.9908 - accuracy: 0.9908\n",
      "Epoch 114/1900\n",
      "2484/2484 [==============================] - 9s 4ms/step - loss: 0.0264 - mse: 3.6955e-04 - categorical_accuracy: 0.9945 - accuracy: 0.9945\n",
      "Epoch 115/1900\n",
      "2484/2484 [==============================] - 9s 4ms/step - loss: 0.0278 - mse: 3.7285e-04 - categorical_accuracy: 0.9945 - accuracy: 0.9945\n",
      "Epoch 116/1900\n",
      "2484/2484 [==============================] - 10s 4ms/step - loss: 0.0245 - mse: 3.6303e-04 - categorical_accuracy: 0.9947 - accuracy: 0.9947\n",
      "Epoch 117/1900\n",
      "2484/2484 [==============================] - 9s 4ms/step - loss: 0.0307 - mse: 4.3697e-04 - categorical_accuracy: 0.9938 - accuracy: 0.9938\n",
      "Epoch 118/1900\n",
      "2484/2484 [==============================] - 9s 4ms/step - loss: 0.0332 - mse: 4.2678e-04 - categorical_accuracy: 0.9938 - accuracy: 0.9938\n",
      "Epoch 119/1900\n",
      "2484/2484 [==============================] - 9s 4ms/step - loss: 0.0177 - mse: 2.4778e-04 - categorical_accuracy: 0.9963 - accuracy: 0.9963\n",
      "Epoch 120/1900\n",
      "2484/2484 [==============================] - 9s 4ms/step - loss: 0.0242 - mse: 3.3420e-04 - categorical_accuracy: 0.9951 - accuracy: 0.9951\n",
      "Epoch 121/1900\n",
      "2484/2484 [==============================] - 9s 4ms/step - loss: 0.0319 - mse: 4.2945e-04 - categorical_accuracy: 0.9939 - accuracy: 0.9939\n",
      "Epoch 122/1900\n",
      "2484/2484 [==============================] - 9s 4ms/step - loss: 0.0234 - mse: 3.1537e-04 - categorical_accuracy: 0.9955 - accuracy: 0.9955\n",
      "Epoch 123/1900\n",
      "2484/2484 [==============================] - 10s 4ms/step - loss: 0.0218 - mse: 3.1927e-04 - categorical_accuracy: 0.9954 - accuracy: 0.9954\n",
      "Epoch 124/1900\n",
      "2484/2484 [==============================] - 9s 4ms/step - loss: 0.0206 - mse: 3.0703e-04 - categorical_accuracy: 0.9955 - accuracy: 0.9955\n",
      "Epoch 125/1900\n",
      "2484/2484 [==============================] - 9s 4ms/step - loss: 0.0231 - mse: 3.6159e-04 - categorical_accuracy: 0.9945 - accuracy: 0.9945\n",
      "Epoch 126/1900\n",
      "2484/2484 [==============================] - 10s 4ms/step - loss: 0.0144 - mse: 2.0237e-04 - categorical_accuracy: 0.9972 - accuracy: 0.9972\n",
      "Epoch 127/1900\n",
      "2484/2484 [==============================] - 9s 4ms/step - loss: 0.0263 - mse: 3.4960e-04 - categorical_accuracy: 0.9950 - accuracy: 0.9950\n",
      "Epoch 128/1900\n",
      "2484/2484 [==============================] - 9s 4ms/step - loss: 0.0198 - mse: 2.8981e-04 - categorical_accuracy: 0.9957 - accuracy: 0.9957\n",
      "Epoch 129/1900\n",
      "2484/2484 [==============================] - 9s 4ms/step - loss: 0.0251 - mse: 2.9121e-04 - categorical_accuracy: 0.9959 - accuracy: 0.9959\n",
      "Epoch 130/1900\n",
      "2484/2484 [==============================] - 9s 4ms/step - loss: 0.0234 - mse: 2.5510e-04 - categorical_accuracy: 0.9963 - accuracy: 0.9963\n",
      "Epoch 131/1900\n",
      "2484/2484 [==============================] - 9s 4ms/step - loss: 0.0201 - mse: 2.9845e-04 - categorical_accuracy: 0.9957 - accuracy: 0.9957\n",
      "Epoch 132/1900\n",
      "2484/2484 [==============================] - 9s 4ms/step - loss: 0.0183 - mse: 2.4436e-04 - categorical_accuracy: 0.9966 - accuracy: 0.9966\n",
      "Epoch 133/1900\n",
      "2484/2484 [==============================] - 9s 4ms/step - loss: 0.0190 - mse: 2.8807e-04 - categorical_accuracy: 0.9958 - accuracy: 0.9958\n",
      "Epoch 134/1900\n",
      "2484/2484 [==============================] - 9s 4ms/step - loss: 0.0234 - mse: 3.2142e-04 - categorical_accuracy: 0.9954 - accuracy: 0.9954\n",
      "Epoch 135/1900\n",
      "2484/2484 [==============================] - 10s 4ms/step - loss: 0.0281 - mse: 3.4207e-04 - categorical_accuracy: 0.9952 - accuracy: 0.9952\n",
      "Epoch 136/1900\n",
      "2484/2484 [==============================] - 9s 4ms/step - loss: 0.0157 - mse: 2.1251e-04 - categorical_accuracy: 0.9969 - accuracy: 0.9969\n",
      "Epoch 137/1900\n",
      "2484/2484 [==============================] - 9s 4ms/step - loss: 0.0193 - mse: 2.5258e-04 - categorical_accuracy: 0.9964 - accuracy: 0.9964\n",
      "Epoch 138/1900\n",
      "2484/2484 [==============================] - 9s 4ms/step - loss: 0.0329 - mse: 3.6752e-04 - categorical_accuracy: 0.9947 - accuracy: 0.9947\n",
      "Epoch 139/1900\n",
      "2484/2484 [==============================] - 9s 4ms/step - loss: 0.0245 - mse: 3.2905e-04 - categorical_accuracy: 0.9952 - accuracy: 0.9952\n",
      "Epoch 140/1900\n",
      "2484/2484 [==============================] - 9s 4ms/step - loss: 0.0140 - mse: 1.9719e-04 - categorical_accuracy: 0.9972 - accuracy: 0.9972\n",
      "Epoch 141/1900\n",
      "2484/2484 [==============================] - 9s 4ms/step - loss: 0.0173 - mse: 2.4535e-04 - categorical_accuracy: 0.9965 - accuracy: 0.9965\n",
      "Epoch 142/1900\n",
      "2484/2484 [==============================] - 9s 4ms/step - loss: 0.0277 - mse: 2.7683e-04 - categorical_accuracy: 0.9961 - accuracy: 0.9961\n",
      "Epoch 143/1900\n",
      "2484/2484 [==============================] - 9s 4ms/step - loss: 0.0280 - mse: 3.3804e-04 - categorical_accuracy: 0.9952 - accuracy: 0.9952\n",
      "Epoch 144/1900\n",
      "2484/2484 [==============================] - 9s 4ms/step - loss: 0.0086 - mse: 1.2909e-04 - categorical_accuracy: 0.9981 - accuracy: 0.9981\n",
      "Epoch 145/1900\n",
      "2484/2484 [==============================] - 9s 4ms/step - loss: 0.0191 - mse: 2.9268e-04 - categorical_accuracy: 0.9957 - accuracy: 0.9957\n",
      "Epoch 146/1900\n",
      "2484/2484 [==============================] - 9s 4ms/step - loss: 0.0227 - mse: 3.2465e-04 - categorical_accuracy: 0.9954 - accuracy: 0.9954\n",
      "Epoch 147/1900\n",
      "2484/2484 [==============================] - 9s 4ms/step - loss: 0.0187 - mse: 2.6452e-04 - categorical_accuracy: 0.9963 - accuracy: 0.9963\n",
      "Epoch 148/1900\n",
      "2484/2484 [==============================] - 9s 4ms/step - loss: 0.0166 - mse: 2.1659e-04 - categorical_accuracy: 0.9968 - accuracy: 0.9968\n",
      "Epoch 149/1900\n",
      "2248/2484 [==========================>...] - ETA: 0s - loss: 0.0147 - mse: 2.0783e-04 - categorical_accuracy: 0.9970 - accuracy: 0.9970"
     ]
    }
   ],
   "source": [
    "model.fit(X_train, y_train, epochs=1900, callbacks=[tb_callback])"
   ]
  },
  {
   "cell_type": "markdown",
   "metadata": {
    "tags": []
   },
   "source": [
    "### Model Evaluation and Prediction"
   ]
  },
  {
   "cell_type": "code",
   "execution_count": 27,
   "metadata": {},
   "outputs": [
    {
     "name": "stdout",
     "output_type": "stream",
     "text": [
      "Model: \"sequential\"\n",
      "_________________________________________________________________\n",
      " Layer (type)                Output Shape              Param #   \n",
      "=================================================================\n",
      " dense (Dense)               (None, 64)                8128      \n",
      "                                                                 \n",
      " dense_1 (Dense)             (None, 36)                2340      \n",
      "                                                                 \n",
      " dense_2 (Dense)             (None, 128)               4736      \n",
      "                                                                 \n",
      " dense_3 (Dense)             (None, 256)               33024     \n",
      "                                                                 \n",
      " dropout (Dropout)           (None, 256)               0         \n",
      "                                                                 \n",
      " dense_4 (Dense)             (None, 2)                 514       \n",
      "                                                                 \n",
      " dense_5 (Dense)             (None, 21)                63        \n",
      "                                                                 \n",
      " dense_6 (Dense)             (None, 24)                528       \n",
      "                                                                 \n",
      "=================================================================\n",
      "Total params: 49,333\n",
      "Trainable params: 49,333\n",
      "Non-trainable params: 0\n",
      "_________________________________________________________________\n"
     ]
    }
   ],
   "source": [
    "model.summary()"
   ]
  },
  {
   "cell_type": "code",
   "execution_count": 28,
   "metadata": {},
   "outputs": [
    {
     "name": "stdout",
     "output_type": "stream",
     "text": [
      "216/216 [==============================] - 1s 3ms/step\n"
     ]
    }
   ],
   "source": [
    "res = model.predict(X_test)"
   ]
  },
  {
   "cell_type": "code",
   "execution_count": 29,
   "metadata": {},
   "outputs": [
    {
     "name": "stdout",
     "output_type": "stream",
     "text": [
      "[[0.0000000e+00 0.0000000e+00 0.0000000e+00 ... 0.0000000e+00\n",
      "  0.0000000e+00 9.2615772e-32]\n",
      " [0.0000000e+00 9.2678987e-34 2.1656656e-38 ... 1.0232855e-36\n",
      "  2.3248172e-26 0.0000000e+00]\n",
      " [0.0000000e+00 6.7789374e-21 4.4236772e-28 ... 2.9966224e-15\n",
      "  0.0000000e+00 3.1890263e-36]\n",
      " ...\n",
      " [0.0000000e+00 0.0000000e+00 1.0000000e+00 ... 0.0000000e+00\n",
      "  0.0000000e+00 0.0000000e+00]\n",
      " [0.0000000e+00 0.0000000e+00 0.0000000e+00 ... 0.0000000e+00\n",
      "  0.0000000e+00 0.0000000e+00]\n",
      " [0.0000000e+00 1.7753713e-04 0.0000000e+00 ... 9.9975473e-01\n",
      "  0.0000000e+00 0.0000000e+00]]\n"
     ]
    }
   ],
   "source": [
    "print(res)"
   ]
  },
  {
   "cell_type": "code",
   "execution_count": 30,
   "metadata": {},
   "outputs": [
    {
     "data": {
      "text/plain": [
       "(6912, 126)"
      ]
     },
     "execution_count": 30,
     "metadata": {},
     "output_type": "execute_result"
    }
   ],
   "source": [
    "X_test.shape"
   ]
  },
  {
   "cell_type": "code",
   "execution_count": 31,
   "metadata": {},
   "outputs": [
    {
     "data": {
      "text/plain": [
       "(6912, 24)"
      ]
     },
     "execution_count": 31,
     "metadata": {},
     "output_type": "execute_result"
    }
   ],
   "source": [
    "res.shape"
   ]
  },
  {
   "cell_type": "code",
   "execution_count": 32,
   "metadata": {},
   "outputs": [
    {
     "data": {
      "text/plain": [
       "'i'"
      ]
     },
     "execution_count": 32,
     "metadata": {},
     "output_type": "execute_result"
    }
   ],
   "source": [
    "action_labels[np.argmax(res[11])]"
   ]
  },
  {
   "cell_type": "code",
   "execution_count": 33,
   "metadata": {},
   "outputs": [
    {
     "data": {
      "text/plain": [
       "'i'"
      ]
     },
     "execution_count": 33,
     "metadata": {},
     "output_type": "execute_result"
    }
   ],
   "source": [
    "action_labels[np.argmax(y_test[11])]"
   ]
  },
  {
   "cell_type": "code",
   "execution_count": 34,
   "metadata": {},
   "outputs": [],
   "source": [
    "from sklearn.metrics import confusion_matrix, accuracy_score, classification_report"
   ]
  },
  {
   "cell_type": "code",
   "execution_count": 35,
   "metadata": {},
   "outputs": [
    {
     "name": "stdout",
     "output_type": "stream",
     "text": [
      "216/216 [==============================] - 1s 3ms/step\n"
     ]
    }
   ],
   "source": [
    "yhat = model.predict(X_test)"
   ]
  },
  {
   "cell_type": "code",
   "execution_count": 36,
   "metadata": {},
   "outputs": [],
   "source": [
    "ytrue = np.argmax(y_test, axis=1).tolist()\n",
    "yhat = np.argmax(yhat, axis=1).tolist()"
   ]
  },
  {
   "cell_type": "code",
   "execution_count": 37,
   "metadata": {},
   "outputs": [],
   "source": [
    "fsl_matrix =confusion_matrix(ytrue, yhat)"
   ]
  },
  {
   "cell_type": "code",
   "execution_count": 38,
   "metadata": {},
   "outputs": [
    {
     "data": {
      "image/png": "[encoded data removed]",
      "text/plain": [
       "<Figure size 1000x1000 with 2 Axes>"
      ]
     },
     "metadata": {},
     "output_type": "display_data"
    }
   ],
   "source": [
    "fig, ax = plt.subplots(figsize=(10,10))         # Sample figsize in inches\n",
    "sns.heatmap(fsl_matrix, annot=True, linewidths=.5, ax=ax,  cmap='coolwarm')\n",
    "\n",
    "# plt.figure(figsize=(30, 10))\n",
    "# plt.title('FSL CONFUSION MATRIX RESULT', )\n",
    "plt.show()"
   ]
  },
  {
   "cell_type": "code",
   "execution_count": 39,
   "metadata": {},
   "outputs": [
    {
     "data": {
      "text/plain": [
       "0.9991319444444444"
      ]
     },
     "execution_count": 39,
     "metadata": {},
     "output_type": "execute_result"
    }
   ],
   "source": [
    "accuracy_score(ytrue, yhat)"
   ]
  },
  {
   "cell_type": "markdown",
   "metadata": {},
   "source": [
    "## CONVERSION OF MODEL TO TFLITE"
   ]
  },
  {
   "cell_type": "code",
   "execution_count": 40,
   "metadata": {},
   "outputs": [
    {
     "name": "stderr",
     "output_type": "stream",
     "text": [
      "WARNING:absl:Found untraced functions such as _update_step_xla while saving (showing 1 of 1). These functions will not be directly callable after loading.\n"
     ]
    },
    {
     "name": "stdout",
     "output_type": "stream",
     "text": [
      "INFO:tensorflow:Assets written to: C:\\Users\\Admin\\AppData\\Local\\Temp\\tmp8qmc7ix_\\assets\n"
     ]
    },
    {
     "name": "stderr",
     "output_type": "stream",
     "text": [
      "INFO:tensorflow:Assets written to: C:\\Users\\Admin\\AppData\\Local\\Temp\\tmp8qmc7ix_\\assets\n"
     ]
    }
   ],
   "source": [
    "# Convert the model.\n",
    "converter = tf.lite.TFLiteConverter.from_keras_model(model)\n",
    "tflite_model = converter.convert()\n",
    "\n",
    "# Save the model.\n",
    "with open('fsl_alphabet_model9.tflite', 'wb') as f:\n",
    "    f.write(tflite_model)"
   ]
  },
  {
   "cell_type": "code",
   "execution_count": 41,
   "metadata": {},
   "outputs": [],
   "source": [
    "fsl_report = classification_report(ytrue, yhat, target_names=action_labels,output_dict=True)"
   ]
  },
  {
   "cell_type": "code",
   "execution_count": 42,
   "metadata": {},
   "outputs": [
    {
     "data": {
      "image/png": "[encoded data removed]",
      "text/plain": [
       "<Figure size 1000x1000 with 2 Axes>"
      ]
     },
     "metadata": {},
     "output_type": "display_data"
    }
   ],
   "source": [
    "fig, ax = plt.subplots(figsize=(10,10))         # Sample figsize in inches\n",
    "sns.heatmap(pd.DataFrame(fsl_report).iloc[:-1, :].T, annot=True, linewidths=.5, ax=ax)\n",
    "plt.title('FSL CLASSIFICATION REPORT', )\n",
    "plt.show()"
   ]
  },
  {
   "cell_type": "code",
   "execution_count": 43,
   "metadata": {},
   "outputs": [],
   "source": [
    "# # serialize model to JSON\n",
    "# model_json = model.to_json()\n",
    "# with open(\"FSL_MODEL.json\", \"w\") as json_file:\n",
    "#     json_file.write(model_json)\n",
    "    \n",
    "# # serialize weights to HDF5\n",
    "# model.save_weights(\"FSL_MODEL.h5\")\n",
    "# print(\"Saved model to disk\")"
   ]
  },
  {
   "cell_type": "code",
   "execution_count": 44,
   "metadata": {},
   "outputs": [],
   "source": [
    "weights_list = model.get_weights()\n",
    "# weights_list"
   ]
  },
  {
   "cell_type": "code",
   "execution_count": 45,
   "metadata": {},
   "outputs": [
    {
     "data": {
      "text/plain": [
       "14"
      ]
     },
     "execution_count": 45,
     "metadata": {},
     "output_type": "execute_result"
    }
   ],
   "source": [
    "len(weights_list)"
   ]
  },
  {
   "cell_type": "code",
   "execution_count": 46,
   "metadata": {},
   "outputs": [
    {
     "name": "stdout",
     "output_type": "stream",
     "text": [
      "['a' 'b' 'c' 'd' 'e' 'f' 'g' 'h' 'i' 'k' 'l' 'm' 'n' 'o' 'p' 'q' 'r' 's'\n",
      " 't' 'u' 'v' 'w' 'x' 'y']\n"
     ]
    }
   ],
   "source": [
    "print(action_labels)"
   ]
  },
  {
   "cell_type": "markdown",
   "metadata": {},
   "source": [
    "### Real-time Prediction Testing"
   ]
  },
  {
   "cell_type": "code",
   "execution_count": 51,
   "metadata": {},
   "outputs": [],
   "source": [
    "threshold = 0.999\n",
    "cap = cv2.VideoCapture(0)\n",
    "\n",
    "with mp_holistic.Holistic(min_detection_confidence=0.5, min_tracking_confidence=0.5) as holistic:\n",
    "    while cap.isOpened():\n",
    "\n",
    "\n",
    "        ret, frame = cap.read()\n",
    "        image, results = detect_mpKeypoints(frame, holistic)\n",
    "       \n",
    "        custom_keypoints(image, results)         \n",
    "        keypoints = get_keypoints(results)\n",
    "\n",
    "        if np.argmax(keypoints) == 0:\n",
    "            pass\n",
    "        else:\n",
    "            res = model.predict(np.expand_dims(keypoints, axis=0))\n",
    "            if np.amax(res) > threshold:\n",
    "                print('PREDICTIONS: ',np.amax(res), \"  |  ALL: \",res)\n",
    "                print(\"SIGN: \", action_labels[np.argmax(res)])\n",
    "            else:\n",
    "                print('PLEASE TRY AGAIN')\n",
    "                print('PREDICTIONS: ',res)\n",
    "\n",
    "        cv2.imshow('FSL RECOGNITION', image)\n",
    "        \n",
    "        if cv2.waitKey(10) & 0xFF == ord('q'):\n",
    "            break\n",
    "            \n",
    "    cap.release()\n",
    "    cv2.destroyAllWindows()"
   ]
  },
  {
   "cell_type": "code",
   "execution_count": 170,
   "metadata": {},
   "outputs": [],
   "source": [
    "cap.release()\n",
    "cv2.destroyAllWindows()"
   ]
  },
  {
   "cell_type": "code",
   "execution_count": null,
   "metadata": {},
   "outputs": [],
   "source": []
  }
 ],
 "metadata": {
  "kernelspec": {
   "display_name": "Python 3 (ipykernel)",
   "language": "python",
   "name": "python3"
  },
  "language_info": {
   "codemirror_mode": {
    "name": "ipython",
    "version": 3
   },
   "file_extension": ".py",
   "mimetype": "text/x-python",
   "name": "python",
   "nbconvert_exporter": "python",
   "pygments_lexer": "ipython3",
   "version": "3.9.13"
  }
 },
 "nbformat": 4,
 "nbformat_minor": 4
}
