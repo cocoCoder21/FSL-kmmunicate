{
 "cells": [
  {
   "cell_type": "code",
   "execution_count": 1,
   "metadata": {},
   "outputs": [],
   "source": [
    "from packaging import version\n",
    "import matplotlib.pyplot as plt\n",
    "import tensorboard as tb\n",
    "from scipy import stats\n",
    "import tensorflow as tf\n",
    "import seaborn as sns\n",
    "import pandas as pd\n",
    "import numpy as np\n",
    "\n",
    "import os\n",
    "import time\n",
    "\n",
    "now = time.localtime()\n",
    "subdir = time.strftime(\"%d-%b-%Y_%H.%M.%S\", now)\n",
    "\n",
    "summary_dir1 = os.path.join(\"model_backend\",'FSL_LOGS','train')\n",
    "summary_writer1 = tf.summary.create_file_writer(summary_dir1)\n",
    "\n",
    "for cont in range(200):\n",
    "    with summary_writer1.as_default():\n",
    "        tf.summary.scalar(name=\"epoch_categorical_accuracy\", data=np.math.sin(cont) ,step=cont)\n",
    "        tf.summary.scalar(name=\"epoch_loss\", data=np.math.sin(cont/2), step=cont)\n",
    "    summary_writer1.flush()"
   ]
  },
  {
   "cell_type": "code",
   "execution_count": 2,
   "metadata": {},
   "outputs": [
    {
     "data": {
      "text/plain": [
       "<tensorflow.python.ops.summary_ops_v2.ResourceSummaryWriter at 0x1df5685c208>"
      ]
     },
     "execution_count": 2,
     "metadata": {},
     "output_type": "execute_result"
    }
   ],
   "source": [
    "summary_writer1"
   ]
  },
  {
   "cell_type": "markdown",
   "metadata": {},
   "source": [
    "#### Loading TensorBoard scalars as a pandas.DataFrame"
   ]
  },
  {
   "cell_type": "code",
   "execution_count": 3,
   "metadata": {},
   "outputs": [
    {
     "data": {
      "text/html": [
       "<div>\n",
       "<style scoped>\n",
       "    .dataframe tbody tr th:only-of-type {\n",
       "        vertical-align: middle;\n",
       "    }\n",
       "\n",
       "    .dataframe tbody tr th {\n",
       "        vertical-align: top;\n",
       "    }\n",
       "\n",
       "    .dataframe thead th {\n",
       "        text-align: right;\n",
       "    }\n",
       "</style>\n",
       "<table border=\"1\" class=\"dataframe\">\n",
       "  <thead>\n",
       "    <tr style=\"text-align: right;\">\n",
       "      <th></th>\n",
       "      <th>run</th>\n",
       "      <th>tag</th>\n",
       "      <th>step</th>\n",
       "      <th>value</th>\n",
       "    </tr>\n",
       "  </thead>\n",
       "  <tbody>\n",
       "    <tr>\n",
       "      <th>0</th>\n",
       "      <td>.</td>\n",
       "      <td>epoch_categorical_accuracy</td>\n",
       "      <td>0</td>\n",
       "      <td>0.000000</td>\n",
       "    </tr>\n",
       "    <tr>\n",
       "      <th>1</th>\n",
       "      <td>.</td>\n",
       "      <td>epoch_categorical_accuracy</td>\n",
       "      <td>1</td>\n",
       "      <td>0.841471</td>\n",
       "    </tr>\n",
       "    <tr>\n",
       "      <th>2</th>\n",
       "      <td>.</td>\n",
       "      <td>epoch_categorical_accuracy</td>\n",
       "      <td>2</td>\n",
       "      <td>0.909297</td>\n",
       "    </tr>\n",
       "    <tr>\n",
       "      <th>3</th>\n",
       "      <td>.</td>\n",
       "      <td>epoch_categorical_accuracy</td>\n",
       "      <td>3</td>\n",
       "      <td>0.141120</td>\n",
       "    </tr>\n",
       "    <tr>\n",
       "      <th>4</th>\n",
       "      <td>.</td>\n",
       "      <td>epoch_categorical_accuracy</td>\n",
       "      <td>4</td>\n",
       "      <td>-0.756802</td>\n",
       "    </tr>\n",
       "    <tr>\n",
       "      <th>...</th>\n",
       "      <td>...</td>\n",
       "      <td>...</td>\n",
       "      <td>...</td>\n",
       "      <td>...</td>\n",
       "    </tr>\n",
       "    <tr>\n",
       "      <th>2065</th>\n",
       "      <td>.</td>\n",
       "      <td>epoch_loss</td>\n",
       "      <td>1030</td>\n",
       "      <td>0.000958</td>\n",
       "    </tr>\n",
       "    <tr>\n",
       "      <th>2066</th>\n",
       "      <td>.</td>\n",
       "      <td>epoch_loss</td>\n",
       "      <td>1031</td>\n",
       "      <td>0.001102</td>\n",
       "    </tr>\n",
       "    <tr>\n",
       "      <th>2067</th>\n",
       "      <td>.</td>\n",
       "      <td>epoch_loss</td>\n",
       "      <td>1032</td>\n",
       "      <td>0.000387</td>\n",
       "    </tr>\n",
       "    <tr>\n",
       "      <th>2068</th>\n",
       "      <td>.</td>\n",
       "      <td>epoch_loss</td>\n",
       "      <td>1033</td>\n",
       "      <td>0.000067</td>\n",
       "    </tr>\n",
       "    <tr>\n",
       "      <th>2069</th>\n",
       "      <td>.</td>\n",
       "      <td>epoch_loss</td>\n",
       "      <td>1034</td>\n",
       "      <td>0.000279</td>\n",
       "    </tr>\n",
       "  </tbody>\n",
       "</table>\n",
       "<p>2070 rows × 4 columns</p>\n",
       "</div>"
      ],
      "text/plain": [
       "     run                         tag  step     value\n",
       "0      .  epoch_categorical_accuracy     0  0.000000\n",
       "1      .  epoch_categorical_accuracy     1  0.841471\n",
       "2      .  epoch_categorical_accuracy     2  0.909297\n",
       "3      .  epoch_categorical_accuracy     3  0.141120\n",
       "4      .  epoch_categorical_accuracy     4 -0.756802\n",
       "...   ..                         ...   ...       ...\n",
       "2065   .                  epoch_loss  1030  0.000958\n",
       "2066   .                  epoch_loss  1031  0.001102\n",
       "2067   .                  epoch_loss  1032  0.000387\n",
       "2068   .                  epoch_loss  1033  0.000067\n",
       "2069   .                  epoch_loss  1034  0.000279\n",
       "\n",
       "[2070 rows x 4 columns]"
      ]
     },
     "execution_count": 3,
     "metadata": {},
     "output_type": "execute_result"
    }
   ],
   "source": [
    "experiment_id = \"Mm0y9p7QT1CNV0yEi1wVYw\"\n",
    "experiment = tb.data.experimental.ExperimentFromDev(experiment_id)\n",
    "df = experiment.get_scalars()\n",
    "df"
   ]
  },
  {
   "cell_type": "code",
   "execution_count": 4,
   "metadata": {},
   "outputs": [
    {
     "name": "stdout",
     "output_type": "stream",
     "text": [
      "['.']\n",
      "['epoch_categorical_accuracy' 'epoch_loss']\n"
     ]
    }
   ],
   "source": [
    "print(df[\"run\"].unique())\n",
    "print(df[\"tag\"].unique())"
   ]
  },
  {
   "cell_type": "markdown",
   "metadata": {},
   "source": [
    "#### Getting a pivoted (wide-form) DataFrame"
   ]
  },
  {
   "cell_type": "code",
   "execution_count": 5,
   "metadata": {},
   "outputs": [
    {
     "data": {
      "text/html": [
       "<div>\n",
       "<style scoped>\n",
       "    .dataframe tbody tr th:only-of-type {\n",
       "        vertical-align: middle;\n",
       "    }\n",
       "\n",
       "    .dataframe tbody tr th {\n",
       "        vertical-align: top;\n",
       "    }\n",
       "\n",
       "    .dataframe thead th {\n",
       "        text-align: right;\n",
       "    }\n",
       "</style>\n",
       "<table border=\"1\" class=\"dataframe\">\n",
       "  <thead>\n",
       "    <tr style=\"text-align: right;\">\n",
       "      <th></th>\n",
       "      <th>run</th>\n",
       "      <th>step</th>\n",
       "      <th>epoch_categorical_accuracy</th>\n",
       "      <th>epoch_loss</th>\n",
       "    </tr>\n",
       "  </thead>\n",
       "  <tbody>\n",
       "    <tr>\n",
       "      <th>0</th>\n",
       "      <td>.</td>\n",
       "      <td>0</td>\n",
       "      <td>0.000000</td>\n",
       "      <td>1.020378</td>\n",
       "    </tr>\n",
       "    <tr>\n",
       "      <th>1</th>\n",
       "      <td>.</td>\n",
       "      <td>1</td>\n",
       "      <td>0.841471</td>\n",
       "      <td>0.479426</td>\n",
       "    </tr>\n",
       "    <tr>\n",
       "      <th>2</th>\n",
       "      <td>.</td>\n",
       "      <td>2</td>\n",
       "      <td>0.909297</td>\n",
       "      <td>0.493039</td>\n",
       "    </tr>\n",
       "    <tr>\n",
       "      <th>3</th>\n",
       "      <td>.</td>\n",
       "      <td>3</td>\n",
       "      <td>0.141120</td>\n",
       "      <td>0.997495</td>\n",
       "    </tr>\n",
       "    <tr>\n",
       "      <th>4</th>\n",
       "      <td>.</td>\n",
       "      <td>4</td>\n",
       "      <td>-0.756802</td>\n",
       "      <td>0.183581</td>\n",
       "    </tr>\n",
       "    <tr>\n",
       "      <th>...</th>\n",
       "      <td>...</td>\n",
       "      <td>...</td>\n",
       "      <td>...</td>\n",
       "      <td>...</td>\n",
       "    </tr>\n",
       "    <tr>\n",
       "      <th>1030</th>\n",
       "      <td>.</td>\n",
       "      <td>1030</td>\n",
       "      <td>0.999597</td>\n",
       "      <td>0.000958</td>\n",
       "    </tr>\n",
       "    <tr>\n",
       "      <th>1031</th>\n",
       "      <td>.</td>\n",
       "      <td>1031</td>\n",
       "      <td>0.999195</td>\n",
       "      <td>0.001102</td>\n",
       "    </tr>\n",
       "    <tr>\n",
       "      <th>1032</th>\n",
       "      <td>.</td>\n",
       "      <td>1032</td>\n",
       "      <td>1.000000</td>\n",
       "      <td>0.000387</td>\n",
       "    </tr>\n",
       "    <tr>\n",
       "      <th>1033</th>\n",
       "      <td>.</td>\n",
       "      <td>1033</td>\n",
       "      <td>1.000000</td>\n",
       "      <td>0.000067</td>\n",
       "    </tr>\n",
       "    <tr>\n",
       "      <th>1034</th>\n",
       "      <td>.</td>\n",
       "      <td>1034</td>\n",
       "      <td>1.000000</td>\n",
       "      <td>0.000279</td>\n",
       "    </tr>\n",
       "  </tbody>\n",
       "</table>\n",
       "<p>1035 rows × 4 columns</p>\n",
       "</div>"
      ],
      "text/plain": [
       "     run  step  epoch_categorical_accuracy  epoch_loss\n",
       "0      .     0                    0.000000    1.020378\n",
       "1      .     1                    0.841471    0.479426\n",
       "2      .     2                    0.909297    0.493039\n",
       "3      .     3                    0.141120    0.997495\n",
       "4      .     4                   -0.756802    0.183581\n",
       "...   ..   ...                         ...         ...\n",
       "1030   .  1030                    0.999597    0.000958\n",
       "1031   .  1031                    0.999195    0.001102\n",
       "1032   .  1032                    1.000000    0.000387\n",
       "1033   .  1033                    1.000000    0.000067\n",
       "1034   .  1034                    1.000000    0.000279\n",
       "\n",
       "[1035 rows x 4 columns]"
      ]
     },
     "execution_count": 5,
     "metadata": {},
     "output_type": "execute_result"
    }
   ],
   "source": [
    "dfw = experiment.get_scalars(pivot=True) \n",
    "dfw"
   ]
  },
  {
   "cell_type": "markdown",
   "metadata": {},
   "source": [
    "#### Saving the DataFrame as CSV"
   ]
  },
  {
   "cell_type": "code",
   "execution_count": 6,
   "metadata": {},
   "outputs": [],
   "source": [
    "csv_path = 'model_backend/fsl_logs.csv'\n",
    "dfw.to_csv(csv_path, index=False)\n",
    "dfw_roundtrip = pd.read_csv(csv_path)\n",
    "pd.testing.assert_frame_equal(dfw_roundtrip, dfw)"
   ]
  },
  {
   "cell_type": "markdown",
   "metadata": {},
   "source": [
    "#### Performing custom visualization and statistical analysis"
   ]
  },
  {
   "cell_type": "code",
   "execution_count": 13,
   "metadata": {},
   "outputs": [
    {
     "data": {
      "image/png": "[encoded data removed]",
      "text/plain": [
       "<Figure size 2160x432 with 1 Axes>"
      ]
     },
     "metadata": {
      "needs_background": "light"
     },
     "output_type": "display_data"
    }
   ],
   "source": [
    "# Filter the DataFrame to only validation data, which is what the subsequent\n",
    "# analyses and visualization will be focused on.\n",
    "dfw_validation = dfw[dfw.run.str.endswith(\".\")]\n",
    "# Get the optimizer value for each row of the validation DataFrame.\n",
    "optimizer_validation = dfw_validation.run.apply(lambda run: run.split(\",\")[0])\n",
    "\n",
    "plt.figure(figsize=(30, 6))\n",
    "plt.subplot(1, 2, 1)\n",
    "sns.lineplot(data=dfw_validation, x=\"step\", y=\"epoch_categorical_accuracy\",\n",
    "             hue=optimizer_validation).set_title(\"CATEGORICAL ACCURACY\")\n",
    "plt.savefig('accuracy.png')\n",
    "\n",
    "# plt.subplot(1, 2, 2)\n",
    "# sns.lineplot(data=dfw_validation, x=\"step\", y=\"epoch_loss\",\n",
    "#              hue=optimizer_validation).set_title(\"LOSS\")\n",
    "# plt.savefig('loss.png')"
   ]
  },
  {
   "cell_type": "code",
   "execution_count": 14,
   "metadata": {},
   "outputs": [],
   "source": [
    "accuracy = dfw['epoch_categorical_accuracy'] #epoch_categorical_accuracy\tepoch_loss\n",
    "loss = dfw['epoch_loss']"
   ]
  },
  {
   "cell_type": "code",
   "execution_count": 17,
   "metadata": {},
   "outputs": [
    {
     "name": "stdout",
     "output_type": "stream",
     "text": [
      "-0.06750265192814699\n"
     ]
    }
   ],
   "source": [
    "correlation = accuracy.corr(loss)\n",
    "print(correlation)"
   ]
  },
  {
   "cell_type": "code",
   "execution_count": null,
   "metadata": {},
   "outputs": [],
   "source": []
  }
 ],
 "metadata": {
  "kernelspec": {
   "display_name": "Python 3",
   "language": "python",
   "name": "python3"
  },
  "language_info": {
   "codemirror_mode": {
    "name": "ipython",
    "version": 3
   },
   "file_extension": ".py",
   "mimetype": "text/x-python",
   "name": "python",
   "nbconvert_exporter": "python",
   "pygments_lexer": "ipython3",
   "version": "3.6.6"
  }
 },
 "nbformat": 4,
 "nbformat_minor": 2
}
